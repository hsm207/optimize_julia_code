{
 "cells": [
  {
   "cell_type": "markdown",
   "metadata": {
    "toc": true
   },
   "source": [
    "<h1>Table of Contents<span class=\"tocSkip\"></span></h1>\n",
    "<div class=\"toc\" style=\"margin-top: 1em;\"><ul class=\"toc-item\"><li><span><a href=\"#System-Information\" data-toc-modified-id=\"System-Information-1\"><span class=\"toc-item-num\">1&nbsp;&nbsp;</span>System Information</a></span></li><li><span><a href=\"#Packages\" data-toc-modified-id=\"Packages-2\"><span class=\"toc-item-num\">2&nbsp;&nbsp;</span>Packages</a></span></li><li><span><a href=\"#Dataset\" data-toc-modified-id=\"Dataset-3\"><span class=\"toc-item-num\">3&nbsp;&nbsp;</span>Dataset</a></span></li><li><span><a href=\"#Solutions\" data-toc-modified-id=\"Solutions-4\"><span class=\"toc-item-num\">4&nbsp;&nbsp;</span>Solutions</a></span><ul class=\"toc-item\"><li><span><a href=\"#Solution-1---Naive\" data-toc-modified-id=\"Solution-1---Naive-4.1\"><span class=\"toc-item-num\">4.1&nbsp;&nbsp;</span>Solution 1 - Naive</a></span></li><li><span><a href=\"#Solution-2---Using-Performance-Tips\" data-toc-modified-id=\"Solution-2---Using-Performance-Tips-4.2\"><span class=\"toc-item-num\">4.2&nbsp;&nbsp;</span>Solution 2 - Using Performance Tips</a></span><ul class=\"toc-item\"><li><span><a href=\"#Avoid-global-variables\" data-toc-modified-id=\"Avoid-global-variables-4.2.1\"><span class=\"toc-item-num\">4.2.1&nbsp;&nbsp;</span>Avoid global variables</a></span></li><li><span><a href=\"#Pre-allocating-outputs\" data-toc-modified-id=\"Pre-allocating-outputs-4.2.2\"><span class=\"toc-item-num\">4.2.2&nbsp;&nbsp;</span>Pre-allocating outputs</a></span></li></ul></li><li><span><a href=\"#Solution-3---Use-A-Profiler\" data-toc-modified-id=\"Solution-3---Use-A-Profiler-4.3\"><span class=\"toc-item-num\">4.3&nbsp;&nbsp;</span>Solution 3 - Use A Profiler</a></span></li><li><span><a href=\"#Solution-4---Simpler-Data-Structure\" data-toc-modified-id=\"Solution-4---Simpler-Data-Structure-4.4\"><span class=\"toc-item-num\">4.4&nbsp;&nbsp;</span>Solution 4 - Simpler Data Structure</a></span></li><li><span><a href=\"#Solution-5---Performance-Annotation\" data-toc-modified-id=\"Solution-5---Performance-Annotation-4.5\"><span class=\"toc-item-num\">4.5&nbsp;&nbsp;</span>Solution 5 - Performance Annotation</a></span></li><li><span><a href=\"#Solution-6---No-Iterators\" data-toc-modified-id=\"Solution-6---No-Iterators-4.6\"><span class=\"toc-item-num\">4.6&nbsp;&nbsp;</span>Solution 6 - No Iterators</a></span></li><li><span><a href=\"#Solution-7---Rephrasing-The-Problem\" data-toc-modified-id=\"Solution-7---Rephrasing-The-Problem-4.7\"><span class=\"toc-item-num\">4.7&nbsp;&nbsp;</span>Solution 7 - Rephrasing The Problem</a></span></li><li><span><a href=\"#Solution-8---Task-Parallelism\" data-toc-modified-id=\"Solution-8---Task-Parallelism-4.8\"><span class=\"toc-item-num\">4.8&nbsp;&nbsp;</span>Solution 8 - Task Parallelism</a></span></li></ul></li><li><span><a href=\"#Appendix\" data-toc-modified-id=\"Appendix-5\"><span class=\"toc-item-num\">5&nbsp;&nbsp;</span>Appendix</a></span></li></ul></div>"
   ]
  },
  {
   "cell_type": "markdown",
   "metadata": {},
   "source": [
    "# System Information"
   ]
  },
  {
   "cell_type": "code",
   "execution_count": 1,
   "metadata": {},
   "outputs": [
    {
     "name": "stdout",
     "output_type": "stream",
     "text": [
      "Julia Version 1.3.1\n",
      "Commit 2d5741174c (2019-12-30 21:36 UTC)\n",
      "Platform Info:\n",
      "  OS: Linux (x86_64-pc-linux-gnu)\n",
      "      Ubuntu 18.04.3 LTS\n",
      "  uname: Linux 4.15.0-1051-aws #53-Ubuntu SMP Wed Sep 18 13:35:53 UTC 2019 x86_64 x86_64\n",
      "  CPU: AMD EPYC 7571: \n",
      "              speed         user         nice          sys         idle          irq\n",
      "       #1  2199 MHz     172703 s          0 s      11525 s    3137793 s          0 s\n",
      "       #2  2199 MHz     159759 s          0 s      13054 s    3148813 s          0 s\n",
      "       #3  2199 MHz     168185 s      29119 s      14715 s    3107941 s          0 s\n",
      "       #4  2199 MHz     157599 s      26896 s      15503 s    3117293 s          0 s\n",
      "       \n",
      "  Memory: 15.526390075683594 GB (12023.19921875 MB free)\n",
      "  Uptime: 33307.0 sec\n",
      "  Load Avg:  0.2626953125  0.1259765625  0.23095703125\n",
      "  WORD_SIZE: 64\n",
      "  LIBM: libopenlibm\n",
      "  LLVM: libLLVM-6.0.1 (ORCJIT, znver1)\n",
      "Environment:\n",
      "  JULIA_NUM_THREADS = 4\n",
      "  LD_LIBRARY_PATH = /usr/lib64/openmpi/lib/:/usr/local/cuda/lib64:/usr/local/lib:/usr/lib:/usr/local/cuda/extras/CUPTI/lib64:/usr/local/mpi/lib:/lib/:/home/ubuntu/src/cntk/bindings/python/cntk/libs:/usr/local/cuda/lib64:/usr/local/lib:/usr/lib:/usr/local/cuda/extras/CUPTI/lib64:/usr/local/cuda/efa/lib:/usr/local/cuda/lib:/opt/amazon/efa/lib:/usr/local/mpi/lib:/usr/lib64/openmpi/lib/:/usr/local/cuda/lib64:/usr/local/lib:/usr/lib:/usr/local/cuda/extras/CUPTI/lib64:/usr/local/mpi/lib:/lib/:/usr/lib64/openmpi/lib/:/usr/local/cuda/lib64:/usr/local/lib:/usr/lib:/usr/local/cuda/extras/CUPTI/lib64:/usr/local/mpi/lib:/lib/:/home/ubuntu/src/cntk/bindings/python/cntk/libs:/usr/local/cuda/lib64:/usr/local/lib:/usr/lib:/usr/local/cuda/extras/CUPTI/lib64:/usr/local/cuda/efa/lib:/usr/local/cuda/lib:/opt/amazon/efa/lib:/usr/local/mpi/lib:/usr/lib64/openmpi/lib/:/usr/local/cuda/lib64:/usr/local/lib:/usr/lib:/usr/local/cuda/extras/CUPTI/lib64:/usr/local/mpi/lib:/lib/:\n",
      "  LD_LIBRARY_PATH_WITHOUT_CUDA = /usr/lib64/openmpi/lib/:/usr/local/lib:/usr/lib:/usr/local/mpi/lib:/lib/:/usr/lib64/openmpi/lib/:/usr/local/lib:/usr/lib:/usr/local/mpi/lib:/lib/:/usr/lib64/openmpi/lib/:/usr/local/lib:/usr/lib:/usr/local/mpi/lib:/lib/:/usr/lib64/openmpi/lib/:/usr/local/lib:/usr/lib:/usr/local/mpi/lib:/lib/:\n",
      "  HOME = /home/ubuntu\n",
      "  TERM = screen\n",
      "  LD_LIBRARY_PATH_WITH_DEFAULT_CUDA = /usr/lib64/openmpi/lib/:/usr/local/cuda/lib64:/usr/local/lib:/usr/lib:/usr/local/cuda/extras/CUPTI/lib64:/usr/local/mpi/lib:/lib/:/usr/local/cuda-9.0/lib/:/usr/lib64/openmpi/lib/:/usr/local/cuda/lib64:/usr/local/lib:/usr/lib:/usr/local/cuda/extras/CUPTI/lib64:/usr/local/mpi/lib:/lib/:/usr/local/cuda-9.0/lib/:/usr/lib64/openmpi/lib/:/usr/local/cuda/lib64:/usr/local/lib:/usr/lib:/usr/local/cuda/extras/CUPTI/lib64:/usr/local/mpi/lib:/lib/:/usr/local/cuda-9.0/lib/:/usr/lib64/openmpi/lib/:/usr/local/cuda/lib64:/usr/local/lib:/usr/lib:/usr/local/cuda/extras/CUPTI/lib64:/usr/local/mpi/lib:/lib/:/usr/local/cuda-9.0/lib/:\n",
      "  PYTHONPATH = /home/ubuntu/src/cntk/bindings/python\n",
      "  MODULEPATH = /etc/environment-modules/modules:/usr/share/modules/versions:/usr/share/modules/$MODULE_VERSION/modulefiles:/usr/share/modules/modulefiles\n",
      "  MODULEPATH_modshare = /usr/share/modules/$MODULE_VERSION/modulefiles:1:/etc/environment-modules/modules:1:/usr/share/modules/modulefiles:1:/usr/share/modules/versions:1\n",
      "  PATH = /home/ubuntu/anaconda3/bin:/home/ubuntu/anaconda3/bin/:/home/ubuntu/anaconda3/bin/:/usr/local/cuda/bin:/usr/local/bin:/opt/aws/bin:/usr/local/mpi/bin:/usr/local/cuda/bin:/usr/local/bin:/opt/aws/bin:/home/ubuntu/src/cntk/bin:/usr/local/mpi/bin:/usr/local/cuda/bin:/usr/local/bin:/opt/aws/bin:/usr/local/mpi/bin:/opt/amazon/openmpi/bin:/opt/amazon/efa/bin/:/home/ubuntu/anaconda3/bin/:/home/ubuntu/anaconda3/bin/:/usr/local/cuda/bin:/usr/local/bin:/opt/aws/bin:/usr/local/mpi/bin:/usr/local/cuda/bin:/usr/local/bin:/opt/aws/bin:/home/ubuntu/src/cntk/bin:/usr/local/mpi/bin:/usr/local/cuda/bin:/usr/local/bin:/opt/aws/bin:/usr/local/mpi/bin:/opt/amazon/openmpi/bin:/opt/amazon/efa/bin/:/usr/local/sbin:/usr/local/bin:/usr/sbin:/usr/bin:/sbin:/bin:/usr/games:/usr/local/games:/snap/bin:/home/ubuntu/julia-1.3.1/bin:/home/ubuntu/julia-1.3.1/bin\n",
      "  MODULESHOME = /usr/share/modules\n",
      "  PKG_CONFIG_PATH = /usr/local/lib/pkgconfig:/usr/local/lib/pkgconfig:/usr/local/lib/pkgconfig:/usr/local/lib/pkgconfig:/usr/local/lib/pkgconfig:/usr/local/lib/pkgconfig:\n"
     ]
    }
   ],
   "source": [
    "versioninfo(verbose=true)"
   ]
  },
  {
   "cell_type": "markdown",
   "metadata": {},
   "source": [
    "# Packages"
   ]
  },
  {
   "cell_type": "code",
   "execution_count": 2,
   "metadata": {},
   "outputs": [],
   "source": [
    "using Distributions\n",
    "using DataFrames\n",
    "using DataStructures\n",
    "using BenchmarkTools"
   ]
  },
  {
   "cell_type": "markdown",
   "metadata": {},
   "source": [
    "# Dataset"
   ]
  },
  {
   "cell_type": "markdown",
   "metadata": {},
   "source": [
    "Create the dataset:"
   ]
  },
  {
   "cell_type": "code",
   "execution_count": 3,
   "metadata": {},
   "outputs": [
    {
     "data": {
      "text/plain": [
       "6000000"
      ]
     },
     "execution_count": 3,
     "metadata": {},
     "output_type": "execute_result"
    }
   ],
   "source": [
    "const N = 6_000_000"
   ]
  },
  {
   "cell_type": "code",
   "execution_count": 4,
   "metadata": {},
   "outputs": [
    {
     "data": {
      "text/html": [
       "<table class=\"data-frame\"><thead><tr><th></th><th>col1</th><th>col2</th><th>col3</th></tr><tr><th></th><th>Char</th><th>Char</th><th>Int64</th></tr></thead><tbody><p>5 rows × 3 columns</p><tr><th>1</th><td>'F'</td><td>'m'</td><td>323255</td></tr><tr><th>2</th><td>'R'</td><td>'u'</td><td>973180</td></tr><tr><th>3</th><td>'J'</td><td>'u'</td><td>3329283</td></tr><tr><th>4</th><td>'R'</td><td>'t'</td><td>4186964</td></tr><tr><th>5</th><td>'I'</td><td>'s'</td><td>3371756</td></tr></tbody></table>"
      ],
      "text/latex": [
       "\\begin{tabular}{r|ccc}\n",
       "\t& col1 & col2 & col3\\\\\n",
       "\t\\hline\n",
       "\t& Char & Char & Int64\\\\\n",
       "\t\\hline\n",
       "\t1 & 'F' & 'm' & 323255 \\\\\n",
       "\t2 & 'R' & 'u' & 973180 \\\\\n",
       "\t3 & 'J' & 'u' & 3329283 \\\\\n",
       "\t4 & 'R' & 't' & 4186964 \\\\\n",
       "\t5 & 'I' & 's' & 3371756 \\\\\n",
       "\\end{tabular}\n"
      ],
      "text/plain": [
       "5×3 DataFrame\n",
       "│ Row │ col1 │ col2 │ col3    │\n",
       "│     │ \u001b[90mChar\u001b[39m │ \u001b[90mChar\u001b[39m │ \u001b[90mInt64\u001b[39m   │\n",
       "├─────┼──────┼──────┼─────────┤\n",
       "│ 1   │ 'F'  │ 'm'  │ 323255  │\n",
       "│ 2   │ 'R'  │ 'u'  │ 973180  │\n",
       "│ 3   │ 'J'  │ 'u'  │ 3329283 │\n",
       "│ 4   │ 'R'  │ 't'  │ 4186964 │\n",
       "│ 5   │ 'I'  │ 's'  │ 3371756 │"
      ]
     },
     "execution_count": 4,
     "metadata": {},
     "output_type": "execute_result"
    }
   ],
   "source": [
    "U = DiscreteUniform(1, N)\n",
    "small_cap = 'a':'z'\n",
    "large_cap = 'A':'Z'\n",
    "\n",
    "col1 = rand(large_cap, N)\n",
    "col2 = rand(small_cap, N)\n",
    "col3 = rand(U, N)\n",
    "\n",
    "df = DataFrame(col1 = col1, col2 = col2, col3 = col3)\n",
    "\n",
    "first(df, 5)"
   ]
  },
  {
   "cell_type": "markdown",
   "metadata": {},
   "source": [
    "# Solutions"
   ]
  },
  {
   "cell_type": "markdown",
   "metadata": {},
   "source": [
    "## Solution 1 - Naive"
   ]
  },
  {
   "cell_type": "code",
   "execution_count": 5,
   "metadata": {},
   "outputs": [
    {
     "name": "stdout",
     "output_type": "stream",
     "text": [
      "  11.389 s (89997412 allocations: 1.70 GiB)\n"
     ]
    }
   ],
   "source": [
    "results = counter(Pair{Char,Char})\n",
    "\n",
    "@btime for (c1, c2, c3) in eachrow($df)\n",
    "    key, val = c1 => c2, c3\n",
    "    results[key] = results[key] + val\n",
    "end"
   ]
  },
  {
   "cell_type": "markdown",
   "metadata": {},
   "source": [
    "Without timing so we can check that results are identical with other methods:"
   ]
  },
  {
   "cell_type": "code",
   "execution_count": 6,
   "metadata": {},
   "outputs": [],
   "source": [
    "results1 = counter(Pair{Char,Char})\n",
    "\n",
    "for (c1, c2, c3) in eachrow(df)\n",
    "    key, val = c1 => c2, c3\n",
    "    results1[key] = results1[key] + val\n",
    "end"
   ]
  },
  {
   "cell_type": "markdown",
   "metadata": {},
   "source": [
    "## Solution 2 - Using Performance Tips"
   ]
  },
  {
   "cell_type": "markdown",
   "metadata": {},
   "source": [
    "Based on the [Performance Tips](https://docs.julialang.org/en/v1/manual/performance-tips/index.html) page, we can try:"
   ]
  },
  {
   "cell_type": "markdown",
   "metadata": {},
   "source": [
    "### Avoid global variables"
   ]
  },
  {
   "cell_type": "code",
   "execution_count": 7,
   "metadata": {},
   "outputs": [],
   "source": [
    "function f(data)\n",
    "    results = counter(Pair{Char, Char})\n",
    "    \n",
    "    for (c1, c2, c3) in eachrow(data)\n",
    "        key, val = c1 => c2, c3\n",
    "        results[key] = results[key] + val\n",
    "    end\n",
    "    results\n",
    "end\n",
    ";"
   ]
  },
  {
   "cell_type": "code",
   "execution_count": 8,
   "metadata": {},
   "outputs": [
    {
     "name": "stdout",
     "output_type": "stream",
     "text": [
      "  11.001 s (89996755 allocations: 1.70 GiB)\n"
     ]
    }
   ],
   "source": [
    "@btime f($df);"
   ]
  },
  {
   "cell_type": "markdown",
   "metadata": {},
   "source": [
    "### Pre-allocating outputs"
   ]
  },
  {
   "cell_type": "code",
   "execution_count": 9,
   "metadata": {},
   "outputs": [],
   "source": [
    "function f(data)\n",
    "    results = counter(Pair{Char, Char})\n",
    "\n",
    "    for (c1, c2) in Iterators.product('A':'Z', 'a':'z')\n",
    "        key = Pair(c1, c2)\n",
    "        results[key] = 0\n",
    "    end\n",
    "    \n",
    "    for (c1, c2, c3) in eachrow(data)\n",
    "        key, val = c1 => c2, c3\n",
    "        results[key] = results[key] + val\n",
    "    end\n",
    "\n",
    "    results\n",
    "end\n",
    ";"
   ]
  },
  {
   "cell_type": "code",
   "execution_count": 10,
   "metadata": {},
   "outputs": [
    {
     "name": "stdout",
     "output_type": "stream",
     "text": [
      "  11.203 s (89996755 allocations: 1.70 GiB)\n"
     ]
    }
   ],
   "source": [
    "@btime f($df);"
   ]
  },
  {
   "cell_type": "markdown",
   "metadata": {},
   "source": [
    "## Solution 3 - Use A Profiler"
   ]
  },
  {
   "cell_type": "markdown",
   "metadata": {},
   "source": [
    "Save the following code into a file named `scratch.jl` and execute it in a REPL inside [Juno](http://docs.junolab.org/stable/):"
   ]
  },
  {
   "cell_type": "markdown",
   "metadata": {},
   "source": [
    "```julia\n",
    "using Distributions\n",
    "using DataFrames\n",
    "using DataStructures\n",
    "using BenchmarkTools\n",
    "\n",
    "const N = 6_000_000\n",
    "\n",
    "U = DiscreteUniform(1, N)\n",
    "small_cap = 'a':'z'\n",
    "large_cap = 'A':'Z'\n",
    "\n",
    "col1 = rand(large_cap, N)\n",
    "col2 = rand(small_cap, N)\n",
    "col3 = rand(U, N)\n",
    "\n",
    "df = DataFrame(col1 = col1, col2 = col2, col3 = col3)\n",
    "\n",
    "function f(data)\n",
    "    results = counter(Pair{Char, Char})\n",
    "\n",
    "    for (c1, c2, c3) in eachrow(data)\n",
    "        key, val = c1 => c2, c3\n",
    "        results[key] = results[key] + val\n",
    "    end\n",
    "    results\n",
    "end\n",
    "\n",
    "using Profile\n",
    "Profile.init(delay=0.5)\n",
    "Juno.@profiler f(df);\n",
    "```"
   ]
  },
  {
   "cell_type": "markdown",
   "metadata": {},
   "source": [
    "<img src=\"https://i.ibb.co/kHmpgD3/Untitled.png\" alt=\"Untitled\" border=\"0\">"
   ]
  },
  {
   "cell_type": "markdown",
   "metadata": {},
   "source": [
    "This gives:"
   ]
  },
  {
   "cell_type": "markdown",
   "metadata": {},
   "source": [
    "<img src=\"https://i.ibb.co/8dJ6bQt/Untitled.png\" alt=\"Untitled\" border=\"0\">"
   ]
  },
  {
   "cell_type": "markdown",
   "metadata": {},
   "source": [
    "If we don't depend on data frames:"
   ]
  },
  {
   "cell_type": "code",
   "execution_count": 11,
   "metadata": {},
   "outputs": [],
   "source": [
    "function f(data)\n",
    "    results = counter(Pair{Char, Char})\n",
    "    \n",
    "    for (c1, c2, c3) in data\n",
    "        key, val = c1 => c2, c3\n",
    "        results[key] = results[key] + val\n",
    "    end\n",
    "    results\n",
    "end\n",
    ";"
   ]
  },
  {
   "cell_type": "code",
   "execution_count": 12,
   "metadata": {},
   "outputs": [
    {
     "data": {
      "text/plain": [
       "Base.Iterators.Zip{Tuple{Array{Char,1},Array{Char,1},Array{Int64,1}}}"
      ]
     },
     "execution_count": 12,
     "metadata": {},
     "output_type": "execute_result"
    }
   ],
   "source": [
    "data = zip(df[!, :col1], df[!, :col2], df[!, :col3])\n",
    "typeof(data)"
   ]
  },
  {
   "cell_type": "code",
   "execution_count": 13,
   "metadata": {},
   "outputs": [
    {
     "name": "stdout",
     "output_type": "stream",
     "text": [
      "  187.673 ms (19 allocations: 92.33 KiB)\n"
     ]
    }
   ],
   "source": [
    "@btime f($data);"
   ]
  },
  {
   "cell_type": "markdown",
   "metadata": {},
   "source": [
    "<img src=\"https://i.ibb.co/PgCYDh2/Untitled.png\" alt=\"Untitled\" border=\"0\">"
   ]
  },
  {
   "cell_type": "markdown",
   "metadata": {},
   "source": [
    "## Solution 4 - Simpler Data Structure"
   ]
  },
  {
   "cell_type": "markdown",
   "metadata": {},
   "source": [
    "How to encode a pair of characters e.g. (\"A\", 'b') as integers:"
   ]
  },
  {
   "cell_type": "code",
   "execution_count": 14,
   "metadata": {},
   "outputs": [
    {
     "data": {
      "text/plain": [
       "0x0041"
      ]
     },
     "execution_count": 14,
     "metadata": {},
     "output_type": "execute_result"
    }
   ],
   "source": [
    "convert(UInt16, 'A')"
   ]
  },
  {
   "cell_type": "code",
   "execution_count": 15,
   "metadata": {},
   "outputs": [
    {
     "data": {
      "text/plain": [
       "0x0062"
      ]
     },
     "execution_count": 15,
     "metadata": {},
     "output_type": "execute_result"
    }
   ],
   "source": [
    "convert(UInt16, 'b')"
   ]
  },
  {
   "cell_type": "code",
   "execution_count": 16,
   "metadata": {},
   "outputs": [
    {
     "data": {
      "text/plain": [
       "0x4162"
      ]
     },
     "execution_count": 16,
     "metadata": {},
     "output_type": "execute_result"
    }
   ],
   "source": [
    "convert(UInt16, 'A') << 8 | convert(UInt16, 'b')"
   ]
  },
  {
   "cell_type": "markdown",
   "metadata": {},
   "source": [
    "The maximum number of things this scheme can encode:"
   ]
  },
  {
   "cell_type": "code",
   "execution_count": 17,
   "metadata": {},
   "outputs": [
    {
     "data": {
      "text/plain": [
       "65536"
      ]
     },
     "execution_count": 17,
     "metadata": {},
     "output_type": "execute_result"
    }
   ],
   "source": [
    "2^16"
   ]
  },
  {
   "cell_type": "markdown",
   "metadata": {},
   "source": [
    "A function to do the encoding:"
   ]
  },
  {
   "cell_type": "code",
   "execution_count": 18,
   "metadata": {},
   "outputs": [],
   "source": [
    "g(x1, x2) = convert(UInt16, x1) << 8 | convert(UInt16, x2);"
   ]
  },
  {
   "cell_type": "markdown",
   "metadata": {},
   "source": [
    "The solution:"
   ]
  },
  {
   "cell_type": "code",
   "execution_count": 19,
   "metadata": {},
   "outputs": [],
   "source": [
    "function f(data)\n",
    "    results = zeros(Int, 2^16)\n",
    "    \n",
    "    for (char1, char2, val) in data\n",
    "        key = g(char1, char2)\n",
    "        results[key] =  results[key] + val\n",
    "    end\n",
    "    results\n",
    "end\n",
    ";"
   ]
  },
  {
   "cell_type": "code",
   "execution_count": 20,
   "metadata": {},
   "outputs": [
    {
     "name": "stdout",
     "output_type": "stream",
     "text": [
      "  37.476 ms (2 allocations: 512.08 KiB)\n"
     ]
    }
   ],
   "source": [
    "@btime f($data);"
   ]
  },
  {
   "cell_type": "markdown",
   "metadata": {},
   "source": [
    "## Solution 5 - Performance Annotation"
   ]
  },
  {
   "cell_type": "code",
   "execution_count": 21,
   "metadata": {},
   "outputs": [],
   "source": [
    "function f(data)\n",
    "    results = zeros(Int, 2^16)\n",
    "    \n",
    "    for (char1, char2, val) in data\n",
    "        key = g(char1, char2)\n",
    "        @inbounds results[key] =  results[key] + val\n",
    "    end\n",
    "    results\n",
    "end\n",
    ";"
   ]
  },
  {
   "cell_type": "code",
   "execution_count": 22,
   "metadata": {},
   "outputs": [
    {
     "name": "stdout",
     "output_type": "stream",
     "text": [
      "  33.819 ms (2 allocations: 512.08 KiB)\n"
     ]
    }
   ],
   "source": [
    "@btime f($data);"
   ]
  },
  {
   "cell_type": "markdown",
   "metadata": {},
   "source": [
    "<img src=\"https://i.ibb.co/37Qbr2t/Untitled.png\" alt=\"Untitled\" border=\"0\">"
   ]
  },
  {
   "cell_type": "markdown",
   "metadata": {},
   "source": [
    "## Solution 6 - No Iterators"
   ]
  },
  {
   "cell_type": "code",
   "execution_count": 23,
   "metadata": {},
   "outputs": [],
   "source": [
    "function f(col1, col2, col3)\n",
    "    results = zeros(Int, 2^16)\n",
    "    \n",
    "    for i in eachindex(col1)\n",
    "        key = g(col1[i], col2[i])\n",
    "        @inbounds results[key] =  results[key] + col3[i]\n",
    "    end\n",
    "    results\n",
    "end\n",
    ";"
   ]
  },
  {
   "cell_type": "code",
   "execution_count": 24,
   "metadata": {},
   "outputs": [
    {
     "name": "stdout",
     "output_type": "stream",
     "text": [
      "  26.786 ms (2 allocations: 512.08 KiB)\n"
     ]
    }
   ],
   "source": [
    "@btime f($col1, $col2, $col3);"
   ]
  },
  {
   "cell_type": "markdown",
   "metadata": {},
   "source": [
    "<img src=\"https://i.ibb.co/wRr814s/Untitled.png\" alt=\"Untitled\" border=\"0\">"
   ]
  },
  {
   "cell_type": "code",
   "execution_count": 25,
   "metadata": {},
   "outputs": [],
   "source": [
    "results =  f(col1, col2, col3)\n",
    "\n",
    "for (k, v) in results1\n",
    "    char1, char2 = k\n",
    "    ind = g(char1, char2)\n",
    "    @assert(results[ind] == v)\n",
    "end"
   ]
  },
  {
   "cell_type": "markdown",
   "metadata": {},
   "source": [
    "## Solution 7 - Rephrasing The Problem"
   ]
  },
  {
   "cell_type": "code",
   "execution_count": 26,
   "metadata": {},
   "outputs": [
    {
     "name": "stdout",
     "output_type": "stream",
     "text": [
      "  233.226 ms (50062 allocations: 250.22 MiB)\n"
     ]
    }
   ],
   "source": [
    "@btime aggregate($df, $[:col1, :col2], $sum);"
   ]
  },
  {
   "cell_type": "markdown",
   "metadata": {},
   "source": [
    "## Solution 8 - Task Parallelism"
   ]
  },
  {
   "cell_type": "markdown",
   "metadata": {},
   "source": [
    "Check out [this](https://julialang.org/blog/2019/07/multithreading/) blog post for details."
   ]
  },
  {
   "cell_type": "code",
   "execution_count": 27,
   "metadata": {},
   "outputs": [],
   "source": [
    "import Base.Threads.@spawn"
   ]
  },
  {
   "cell_type": "code",
   "execution_count": 28,
   "metadata": {},
   "outputs": [
    {
     "data": {
      "text/plain": [
       "chunk_dataframe (generic function with 2 methods)"
      ]
     },
     "execution_count": 28,
     "metadata": {},
     "output_type": "execute_result"
    }
   ],
   "source": [
    "chunk_dataframe(df, chunks = 4) = begin\n",
    "    N = nrow(df)\n",
    "    chunksize = Int(N / chunks)\n",
    "    \n",
    "    inds = [UnitRange((i - 1) * chunksize + 1, i * chunksize) for i in 1:chunks]\n",
    "    [df[ind, :] for ind in inds]\n",
    "end"
   ]
  },
  {
   "cell_type": "code",
   "execution_count": 29,
   "metadata": {},
   "outputs": [
    {
     "data": {
      "text/plain": [
       "count_data (generic function with 1 method)"
      ]
     },
     "execution_count": 29,
     "metadata": {},
     "output_type": "execute_result"
    }
   ],
   "source": [
    "count_data(df) = begin\n",
    "    results = counter(Pair{Char, Char})\n",
    "    \n",
    "    for (c1, c2, c3) in eachrow(df)\n",
    "        key, val = c1 => c2, c3\n",
    "        results[key] = results[key] + val\n",
    "    end\n",
    "    results\n",
    "end"
   ]
  },
  {
   "cell_type": "code",
   "execution_count": 30,
   "metadata": {},
   "outputs": [],
   "source": [
    "function f(df, chunks = 4)\n",
    "    \n",
    "    df_chunks = chunk_dataframe(df, chunks)\n",
    "\n",
    "    [@spawn count_data(df_chunk) for df_chunk in df_chunks] .|> \n",
    "        fetch |>\n",
    "        x -> foldl(merge!, x)\n",
    "\n",
    "end\n",
    ";"
   ]
  },
  {
   "cell_type": "code",
   "execution_count": 31,
   "metadata": {},
   "outputs": [
    {
     "name": "stdout",
     "output_type": "stream",
     "text": [
      "  12.611 s (89990352 allocations: 1.79 GiB)\n"
     ]
    }
   ],
   "source": [
    "@btime f($df, $4);"
   ]
  },
  {
   "cell_type": "code",
   "execution_count": 32,
   "metadata": {},
   "outputs": [
    {
     "name": "stdout",
     "output_type": "stream",
     "text": [
      "  11.668 s (89994663 allocations: 1.79 GiB)\n"
     ]
    }
   ],
   "source": [
    "@btime f($df, $2);"
   ]
  },
  {
   "cell_type": "markdown",
   "metadata": {},
   "source": [
    "# Appendix"
   ]
  },
  {
   "cell_type": "markdown",
   "metadata": {},
   "source": [
    "Check that Task Parallelism would have worked if we had more expensive computation to perform."
   ]
  },
  {
   "cell_type": "code",
   "execution_count": 33,
   "metadata": {},
   "outputs": [],
   "source": [
    "sample_df = df[1:600_000, :];"
   ]
  },
  {
   "cell_type": "markdown",
   "metadata": {},
   "source": [
    "Dummy function to represent some complex calculation:"
   ]
  },
  {
   "cell_type": "code",
   "execution_count": 34,
   "metadata": {},
   "outputs": [],
   "source": [
    "function complicated_calculation!(results, key, value)\n",
    "    Libc.systemsleep(1e-5)\n",
    "    results[key] = results[key] + value\n",
    "end;"
   ]
  },
  {
   "cell_type": "markdown",
   "metadata": {},
   "source": [
    "If we process each row of the dataframe sequentially:"
   ]
  },
  {
   "cell_type": "code",
   "execution_count": 35,
   "metadata": {},
   "outputs": [],
   "source": [
    "function f1(data)\n",
    "    results = counter(Pair{Char, Char})\n",
    "    \n",
    "    for (c1, c2, c3) in eachrow(data)\n",
    "        key, val = c1 => c2, c3\n",
    "        complicated_calculation!(results, key, val)\n",
    "    end\n",
    "    results\n",
    "end\n",
    ";"
   ]
  },
  {
   "cell_type": "code",
   "execution_count": 36,
   "metadata": {},
   "outputs": [
    {
     "name": "stdout",
     "output_type": "stream",
     "text": [
      "  48.349 s (8398385 allocations: 164.86 MiB)\n"
     ]
    }
   ],
   "source": [
    "results1_app = @btime f1(sample_df);"
   ]
  },
  {
   "cell_type": "markdown",
   "metadata": {},
   "source": [
    "Processing the rows in parallel will result in significant speedup:"
   ]
  },
  {
   "cell_type": "code",
   "execution_count": 37,
   "metadata": {},
   "outputs": [],
   "source": [
    "complicated_count_data(df) = begin\n",
    "    results = counter(Pair{Char, Char})\n",
    "    \n",
    "    for (c1, c2, c3) in eachrow(df)\n",
    "        key, val = c1 => c2, c3\n",
    "        complicated_calculation!(results, key, val)\n",
    "    end\n",
    "    results\n",
    "end\n",
    ";"
   ]
  },
  {
   "cell_type": "code",
   "execution_count": 38,
   "metadata": {},
   "outputs": [],
   "source": [
    "function f2(df, chunks = 4)\n",
    "    \n",
    "    df_chunks = chunk_dataframe(df, chunks)\n",
    "\n",
    "    [@spawn complicated_count_data(df_chunk) for df_chunk in df_chunks] .|> \n",
    "        fetch |>\n",
    "        x -> foldl(merge!, x)\n",
    "\n",
    "end\n",
    ";"
   ]
  },
  {
   "cell_type": "code",
   "execution_count": 39,
   "metadata": {},
   "outputs": [
    {
     "name": "stdout",
     "output_type": "stream",
     "text": [
      "  12.750 s (8394009 allocations: 174.23 MiB)\n"
     ]
    }
   ],
   "source": [
    "results2_app = @btime f2(sample_df, 4);"
   ]
  },
  {
   "cell_type": "markdown",
   "metadata": {},
   "source": [
    "Check results are identical:"
   ]
  },
  {
   "cell_type": "code",
   "execution_count": 40,
   "metadata": {},
   "outputs": [
    {
     "data": {
      "text/plain": [
       "true"
      ]
     },
     "execution_count": 40,
     "metadata": {},
     "output_type": "execute_result"
    }
   ],
   "source": [
    "results1_app == results2_app"
   ]
  }
 ],
 "metadata": {
  "kernelspec": {
   "display_name": "Julia 1.3.1",
   "language": "julia",
   "name": "julia-1.3"
  },
  "language_info": {
   "file_extension": ".jl",
   "mimetype": "application/julia",
   "name": "julia",
   "version": "1.3.1"
  },
  "toc": {
   "nav_menu": {},
   "number_sections": true,
   "sideBar": true,
   "skip_h1_title": false,
   "toc_cell": true,
   "toc_position": {},
   "toc_section_display": "block",
   "toc_window_display": true
  }
 },
 "nbformat": 4,
 "nbformat_minor": 2
}
